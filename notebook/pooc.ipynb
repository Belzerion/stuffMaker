{
 "cells": [
  {
   "cell_type": "code",
   "execution_count": 1,
   "metadata": {},
   "outputs": [],
   "source": [
    "import sys \n",
    "sys.path.append(\"../\")\n",
    "sys.path.append(\"../scripts\")\n"
   ]
  },
  {
   "cell_type": "code",
   "execution_count": 3,
   "metadata": {},
   "outputs": [],
   "source": [
    "from scripts.Parser import populate_df"
   ]
  },
  {
   "cell_type": "code",
   "execution_count": 4,
   "metadata": {},
   "outputs": [
    {
     "data": {
      "text/html": [
       "<div>\n",
       "<style scoped>\n",
       "    .dataframe tbody tr th:only-of-type {\n",
       "        vertical-align: middle;\n",
       "    }\n",
       "\n",
       "    .dataframe tbody tr th {\n",
       "        vertical-align: top;\n",
       "    }\n",
       "\n",
       "    .dataframe thead th {\n",
       "        text-align: right;\n",
       "    }\n",
       "</style>\n",
       "<table border=\"1\" class=\"dataframe\">\n",
       "  <thead>\n",
       "    <tr style=\"text-align: right;\">\n",
       "      <th></th>\n",
       "      <th>name</th>\n",
       "      <th>PA</th>\n",
       "      <th>PM</th>\n",
       "      <th>(dommages Neutre)</th>\n",
       "      <th>Portée</th>\n",
       "      <th>Force</th>\n",
       "      <th>Sagesse</th>\n",
       "      <th>Intelligence</th>\n",
       "      <th>Puissance</th>\n",
       "      <th>Échangeable :</th>\n",
       "      <th>...</th>\n",
       "      <th>% Résistance mêlée</th>\n",
       "      <th>% Résistance distance</th>\n",
       "      <th>% Dommages distance</th>\n",
       "      <th>% Dommages d'armes</th>\n",
       "      <th>% Dommages aux sorts</th>\n",
       "      <th>Craft coopératif impossible.</th>\n",
       "      <th>Utilisations restantes : /</th>\n",
       "      <th>% Résistance aux armes</th>\n",
       "      <th>(dommages Meilleur élément)</th>\n",
       "      <th>Ajouter un sort temporaire</th>\n",
       "    </tr>\n",
       "  </thead>\n",
       "  <tbody>\n",
       "  </tbody>\n",
       "</table>\n",
       "<p>0 rows × 89 columns</p>\n",
       "</div>"
      ],
      "text/plain": [
       "Empty DataFrame\n",
       "Columns: [name, PA, PM, (dommages Neutre), Portée, Force, Sagesse, Intelligence, Puissance, Échangeable :, -special spell-, Attitude, Vitalité, % Critique, Dommages Feu, Dommages Air, Dommages Terre, Dommages Eau, Dommages Neutre, % Résistance Terre, % Résistance Eau, % Résistance Feu, % Résistance Neutre, % Résistance Air, Dommages, Prospection, Résistances Eau, Résistances Air, Résistances Feu, Chance, Agilité, Résistances Terre, Résistances Neutre, Initiative, (dommages Air), (vol Neutre), (dommages Terre), Dommages Poussée, Invocation, (dommages Feu), (vol Eau), Soins, Arme de chasse, (dommages Eau), Fuite, Invocations, Tacle, Retrait PM, Dommages Pièges, Puissance (pièges), (vol Air), Renvoie dommages, Résistances Critiques, (vol Feu), (soins Feu), (vol Terre), Dommages Critiques, Pods, Esquive PM, Esquive PA, Résistances Poussée, Retrait PA, Dommage Terre, Dommage Feu, Dommage Air, Réduit le coût en PA du sort de, Augmente la portée maximale du sort de, Augmente le nombre de lancers maximal par tour du sort de, Rend la portée du sort modifiable, Augmente les Critiques du sort de%, Désactive le lancer en ligne du sort, Désactive la ligne de vue du sort, Réduit l'intervalle de relance du sort de, Augmente le nombre de lancers maximal par cible du sort de, Augmente les Dommages fixes du sort de, Titre :, Quelqu'un vous suit !, Lié au personnage, % Dommages mêlée, % Résistance mêlée, % Résistance distance, % Dommages distance, % Dommages d'armes, % Dommages aux sorts, Craft coopératif impossible., Utilisations restantes : /, % Résistance aux armes, (dommages Meilleur élément), Ajouter un sort temporaire]\n",
       "Index: []\n",
       "\n",
       "[0 rows x 89 columns]"
      ]
     },
     "metadata": {},
     "output_type": "display_data"
    }
   ],
   "source": [
    "display(populate_df())"
   ]
  }
 ],
 "metadata": {
  "kernelspec": {
   "display_name": "envDev",
   "language": "python",
   "name": "python3"
  },
  "language_info": {
   "codemirror_mode": {
    "name": "ipython",
    "version": 3
   },
   "file_extension": ".py",
   "mimetype": "text/x-python",
   "name": "python",
   "nbconvert_exporter": "python",
   "pygments_lexer": "ipython3",
   "version": "3.10.12"
  }
 },
 "nbformat": 4,
 "nbformat_minor": 2
}
